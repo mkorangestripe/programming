{
 "cells": [
  {
   "cell_type": "markdown",
   "metadata": {},
   "source": [
    "# Corresponding Tree Node"
   ]
  },
  {
   "cell_type": "markdown",
   "metadata": {},
   "source": [
    "* Find the corresponding node of a binary tree in a cloned tree.  \n",
    "* Given two binary trees (original and cloned) and a reference to a node target in the original tree, return a reference to the same node in the cloned tree."
   ]
  },
  {
   "cell_type": "code",
   "execution_count": 7,
   "metadata": {},
   "outputs": [],
   "source": [
    "class TreeNode:\n",
    "    def __init__(self, x):\n",
    "        self.val = x\n",
    "        self.left = None\n",
    "        self.right = None"
   ]
  },
  {
   "cell_type": "code",
   "execution_count": 8,
   "metadata": {},
   "outputs": [],
   "source": [
    "class Solution:\n",
    "    def get_target_copy(self, original: TreeNode, cloned: TreeNode, target: TreeNode) -> TreeNode:\n",
    "\n",
    "        if original is None:\n",
    "            return original\n",
    "\n",
    "        if original is target:\n",
    "            return cloned\n",
    "\n",
    "        left = self.get_target_copy(original.left, cloned.left, target)\n",
    "\n",
    "        if left is not None:\n",
    "            return left\n",
    "\n",
    "        return self.get_target_copy(original.right, cloned.right, target)"
   ]
  },
  {
   "cell_type": "code",
   "execution_count": 9,
   "metadata": {},
   "outputs": [
    {
     "name": "stdout",
     "output_type": "stream",
     "text": [
      "target_clone1.val: 3\n"
     ]
    }
   ],
   "source": [
    "# target = 3\n",
    "# btree1 = [7,4,3,null,null,6,19]\n",
    "\n",
    "btree1 = TreeNode(7)\n",
    "btree1.left = TreeNode(4)\n",
    "btree1.right = TreeNode(3)\n",
    "btree1.right.left = TreeNode(6)\n",
    "btree1.right.right = TreeNode(19)\n",
    "\n",
    "btree_clone1 = btree1\n",
    "target1 = btree1.right\n",
    "\n",
    "solution1 = Solution()\n",
    "target_clone1 = solution1.get_target_copy(btree1, btree_clone1, target1)\n",
    "print(\"target_clone1.val:\", target_clone1.val)"
   ]
  },
  {
   "cell_type": "code",
   "execution_count": 10,
   "metadata": {},
   "outputs": [
    {
     "name": "stdout",
     "output_type": "stream",
     "text": [
      "target_clone2.val: 13\n"
     ]
    }
   ],
   "source": [
    "# target = 13\n",
    "# btree2 = [23,9,29,null,28,27,19,null,null,null,null,13,1,null,null,26,25,6]\n",
    "\n",
    "#                         23\n",
    "#             9                           29\n",
    "#      null       28             27                 19\n",
    "#             null null      null null      13               1\n",
    "#                                       null null      26         25\n",
    "#                                                    6 null    null null\n",
    "\n",
    "btree2 = TreeNode(23)\n",
    "btree2.left = TreeNode(9)\n",
    "btree2.right = TreeNode(29)\n",
    "btree2.left.right = TreeNode(28)\n",
    "btree2.right.left = TreeNode(27)\n",
    "btree2.right.right = TreeNode(19)\n",
    "btree2.right.right.left = TreeNode(13)\n",
    "btree2.right.right.right = TreeNode(1)\n",
    "btree2.right.right.right.left = TreeNode(26)\n",
    "btree2.right.right.right.right = TreeNode(25)\n",
    "btree2.right.right.right.left.left = TreeNode(6)\n",
    "\n",
    "btree_clone2 = btree2\n",
    "target2 = btree2.right.right.left\n",
    "\n",
    "solution2 = Solution()\n",
    "target_clone2 = solution2.get_target_copy(btree2, btree_clone2, target2)\n",
    "print(\"target_clone2.val:\", target_clone2.val)"
   ]
  }
 ],
 "metadata": {
  "kernelspec": {
   "display_name": "machine-learning-PN49_FEA",
   "language": "python",
   "name": "python3"
  },
  "language_info": {
   "codemirror_mode": {
    "name": "ipython",
    "version": 3
   },
   "file_extension": ".py",
   "mimetype": "text/x-python",
   "name": "python",
   "nbconvert_exporter": "python",
   "pygments_lexer": "ipython3",
   "version": "3.12.7"
  }
 },
 "nbformat": 4,
 "nbformat_minor": 2
}
