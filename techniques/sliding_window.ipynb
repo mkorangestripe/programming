{
 "cells": [
  {
   "cell_type": "code",
   "execution_count": 4,
   "metadata": {},
   "outputs": [],
   "source": [
    "SCHEDULE1 = [(2,5),(3,6),(5,7)]\n",
    "SCHEDULE2 = [(2,5),(3,6),(5,7),(5,8)]\n",
    "SCHEDULE3 = [(2,5),(3,5),(5,7)]\n",
    "SCHEDULE4 = []"
   ]
  },
  {
   "cell_type": "code",
   "execution_count": 7,
   "metadata": {},
   "outputs": [
    {
     "name": "stdout",
     "output_type": "stream",
     "text": [
      "Reservation: (2, 5)\n",
      "\n",
      "Reservation: (3, 6)\n",
      "(2, 5)\n",
      "\n",
      "Reservation: (5, 7)\n",
      "(2, 5)\n",
      "(3, 6)\n",
      "\n",
      "Reservation: (5, 8)\n",
      "(2, 5)\n",
      "(3, 6)\n",
      "(5, 7)\n",
      "\n"
     ]
    }
   ],
   "source": [
    "# Basic structure:\n",
    "\n",
    "vm_schedule = SCHEDULE2\n",
    "\n",
    "trailing_res_i, leading_res_i = 0,0\n",
    "\n",
    "for reservation in vm_schedule:\n",
    "    print(f\"Reservation: {reservation}\")\n",
    "    for prev_res in vm_schedule[trailing_res_i:leading_res_i]:\n",
    "        print(prev_res)\n",
    "    print()\n",
    "    leading_res_i +=1"
   ]
  },
  {
   "cell_type": "code",
   "execution_count": 24,
   "metadata": {},
   "outputs": [
    {
     "name": "stdout",
     "output_type": "stream",
     "text": [
      "Reservation: (2, 5)\n",
      "Previous active res: []\n",
      "\n",
      "Reservation: (3, 6)\n",
      "Previous active res: [(2, 5)]\n",
      "\n",
      "Reservation: (5, 7)\n",
      "Previous active res: [(3, 6)]\n",
      "\n",
      "Reservation: (5, 8)\n",
      "Previous active res: [(3, 6), (5, 7)]\n",
      "\n",
      "Number of VMs needed: 3\n"
     ]
    }
   ],
   "source": [
    "# Actual sliding window technique:\n",
    "\n",
    "vm_schedule = SCHEDULE2\n",
    "\n",
    "trailing_res_i, leading_res_i = 0,0\n",
    "start,end = 0,1\n",
    "\n",
    "for reservation in vm_schedule:\n",
    "    print(f\"Reservation: {reservation}\")\n",
    "    for prev_res in vm_schedule[trailing_res_i:leading_res_i]:\n",
    "        # print(f\"Previous res: {prev_res}\")\n",
    "        if prev_res[end] <= reservation[start]:\n",
    "            trailing_res_i += 1\n",
    "            break\n",
    "    print(f\"Previous active res: {vm_schedule[trailing_res_i:leading_res_i]}\")\n",
    "    print()\n",
    "    leading_res_i +=1\n",
    "\n",
    "print(f\"Number of VMs needed: {len(vm_schedule[trailing_res_i:leading_res_i])}\")"
   ]
  }
 ],
 "metadata": {
  "kernelspec": {
   "display_name": "machine-learning-PN49_FEA",
   "language": "python",
   "name": "python3"
  },
  "language_info": {
   "codemirror_mode": {
    "name": "ipython",
    "version": 3
   },
   "file_extension": ".py",
   "mimetype": "text/x-python",
   "name": "python",
   "nbconvert_exporter": "python",
   "pygments_lexer": "ipython3",
   "version": "3.12.7"
  }
 },
 "nbformat": 4,
 "nbformat_minor": 2
}
